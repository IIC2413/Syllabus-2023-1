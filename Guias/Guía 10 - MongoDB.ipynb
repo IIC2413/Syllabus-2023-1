{
  "nbformat": 4,
  "nbformat_minor": 0,
  "metadata": {
    "colab": {
      "provenance": []
    },
    "kernelspec": {
      "name": "python3",
      "display_name": "Python 3"
    },
    "language_info": {
      "name": "python"
    }
  },
  "cells": [
    {
      "cell_type": "markdown",
      "metadata": {
        "id": "OJCc5mm-pwll"
      },
      "source": [
        "Para empezar a utilizar mongodb desde 0, vamos a partir realizando los siguientes pasos:\n",
        "\n",
        "\n",
        "1.   Instalaremos $\\texttt{mongodb}$\n",
        "2.   Inicializaremos el proceso $\\texttt{mongodb}$\n",
        "3.   Instalaremos el comando $\\texttt{gdown}$ para bajar la base de datos en formato json de google drive.\n",
        "4.   Importaremos los datos por linea de comando. Dejaremos los datos en la base de datos $\\texttt{local}$, en la colección $\\texttt{pokedex}$, y le informaremos al comando que los datos vienen como una arreglo de jsons.\n",
        "\n",
        "\n"
      ]
    },
    {
      "cell_type": "code",
      "metadata": {
        "colab": {
          "base_uri": "https://localhost:8080/"
        },
        "id": "F3FBHYX9m330",
        "outputId": "b277a16c-4f33-46ae-e444-6380bfdb608a"
      },
      "source": [
        "!apt install mongodb\n",
        "!service mongodb start\n",
        "!pip install gdown\n",
        "!pip install pymongo\n",
        "!gdown https://drive.google.com/uc?id=108aLE4mFE5bZYitFfX5c14Qj_aYA5MO_\n",
        "!mongoimport --db local --collection pokedex --jsonArray < pokedex.json"
      ],
      "execution_count": null,
      "outputs": [
        {
          "output_type": "stream",
          "name": "stdout",
          "text": [
            "Reading package lists... Done\n",
            "Building dependency tree       \n",
            "Reading state information... Done\n",
            "The following additional packages will be installed:\n",
            "  libpcap0.8 libyaml-cpp0.6 mongo-tools mongodb-clients mongodb-server\n",
            "  mongodb-server-core\n",
            "The following NEW packages will be installed:\n",
            "  libpcap0.8 libyaml-cpp0.6 mongo-tools mongodb mongodb-clients mongodb-server\n",
            "  mongodb-server-core\n",
            "0 upgraded, 7 newly installed, 0 to remove and 38 not upgraded.\n",
            "Need to get 55.8 MB of archives.\n",
            "After this operation, 226 MB of additional disk space will be used.\n",
            "Get:1 http://archive.ubuntu.com/ubuntu focal/main amd64 libpcap0.8 amd64 1.9.1-3 [128 kB]\n",
            "Get:2 http://archive.ubuntu.com/ubuntu focal/main amd64 libyaml-cpp0.6 amd64 0.6.2-4ubuntu1 [124 kB]\n",
            "Get:3 http://archive.ubuntu.com/ubuntu focal/universe amd64 mongo-tools amd64 3.6.3-0ubuntu1 [12.3 MB]\n",
            "Get:4 http://archive.ubuntu.com/ubuntu focal-updates/universe amd64 mongodb-clients amd64 1:3.6.9+really3.6.8+90~g8e540c0b6d-0ubuntu5.3 [21.6 MB]\n",
            "Get:5 http://archive.ubuntu.com/ubuntu focal-updates/universe amd64 mongodb-server-core amd64 1:3.6.9+really3.6.8+90~g8e540c0b6d-0ubuntu5.3 [21.6 MB]\n",
            "Get:6 http://archive.ubuntu.com/ubuntu focal-updates/universe amd64 mongodb-server all 1:3.6.9+really3.6.8+90~g8e540c0b6d-0ubuntu5.3 [12.5 kB]\n",
            "Get:7 http://archive.ubuntu.com/ubuntu focal-updates/universe amd64 mongodb amd64 1:3.6.9+really3.6.8+90~g8e540c0b6d-0ubuntu5.3 [9,640 B]\n",
            "Fetched 55.8 MB in 1s (40.1 MB/s)\n",
            "Selecting previously unselected package libpcap0.8:amd64.\n",
            "(Reading database ... 122541 files and directories currently installed.)\n",
            "Preparing to unpack .../0-libpcap0.8_1.9.1-3_amd64.deb ...\n",
            "Unpacking libpcap0.8:amd64 (1.9.1-3) ...\n",
            "Selecting previously unselected package libyaml-cpp0.6:amd64.\n",
            "Preparing to unpack .../1-libyaml-cpp0.6_0.6.2-4ubuntu1_amd64.deb ...\n",
            "Unpacking libyaml-cpp0.6:amd64 (0.6.2-4ubuntu1) ...\n",
            "Selecting previously unselected package mongo-tools.\n",
            "Preparing to unpack .../2-mongo-tools_3.6.3-0ubuntu1_amd64.deb ...\n",
            "Unpacking mongo-tools (3.6.3-0ubuntu1) ...\n",
            "Selecting previously unselected package mongodb-clients.\n",
            "Preparing to unpack .../3-mongodb-clients_1%3a3.6.9+really3.6.8+90~g8e540c0b6d-0ubuntu5.3_amd64.deb ...\n",
            "Unpacking mongodb-clients (1:3.6.9+really3.6.8+90~g8e540c0b6d-0ubuntu5.3) ...\n",
            "Selecting previously unselected package mongodb-server-core.\n",
            "Preparing to unpack .../4-mongodb-server-core_1%3a3.6.9+really3.6.8+90~g8e540c0b6d-0ubuntu5.3_amd64.deb ...\n",
            "Unpacking mongodb-server-core (1:3.6.9+really3.6.8+90~g8e540c0b6d-0ubuntu5.3) ...\n",
            "Selecting previously unselected package mongodb-server.\n",
            "Preparing to unpack .../5-mongodb-server_1%3a3.6.9+really3.6.8+90~g8e540c0b6d-0ubuntu5.3_all.deb ...\n",
            "Unpacking mongodb-server (1:3.6.9+really3.6.8+90~g8e540c0b6d-0ubuntu5.3) ...\n",
            "Selecting previously unselected package mongodb.\n",
            "Preparing to unpack .../6-mongodb_1%3a3.6.9+really3.6.8+90~g8e540c0b6d-0ubuntu5.3_amd64.deb ...\n",
            "Unpacking mongodb (1:3.6.9+really3.6.8+90~g8e540c0b6d-0ubuntu5.3) ...\n",
            "Setting up libpcap0.8:amd64 (1.9.1-3) ...\n",
            "Setting up libyaml-cpp0.6:amd64 (0.6.2-4ubuntu1) ...\n",
            "Setting up mongodb-clients (1:3.6.9+really3.6.8+90~g8e540c0b6d-0ubuntu5.3) ...\n",
            "Setting up mongo-tools (3.6.3-0ubuntu1) ...\n",
            "Setting up mongodb-server-core (1:3.6.9+really3.6.8+90~g8e540c0b6d-0ubuntu5.3) ...\n",
            "Setting up mongodb-server (1:3.6.9+really3.6.8+90~g8e540c0b6d-0ubuntu5.3) ...\n",
            "invoke-rc.d: could not determine current runlevel\n",
            "invoke-rc.d: policy-rc.d denied execution of start.\n",
            "Created symlink /etc/systemd/system/multi-user.target.wants/mongodb.service → /lib/systemd/system/mongodb.service.\n",
            "Setting up mongodb (1:3.6.9+really3.6.8+90~g8e540c0b6d-0ubuntu5.3) ...\n",
            "Processing triggers for man-db (2.9.1-1) ...\n",
            "Processing triggers for libc-bin (2.31-0ubuntu9.9) ...\n",
            "Processing triggers for systemd (245.4-4ubuntu3.21) ...\n",
            " * Starting database mongodb\n",
            "   ...done.\n",
            "Looking in indexes: https://pypi.org/simple, https://us-python.pkg.dev/colab-wheels/public/simple/\n",
            "Requirement already satisfied: gdown in /usr/local/lib/python3.10/dist-packages (4.6.6)\n",
            "Requirement already satisfied: filelock in /usr/local/lib/python3.10/dist-packages (from gdown) (3.12.0)\n",
            "Requirement already satisfied: requests[socks] in /usr/local/lib/python3.10/dist-packages (from gdown) (2.27.1)\n",
            "Requirement already satisfied: six in /usr/local/lib/python3.10/dist-packages (from gdown) (1.16.0)\n",
            "Requirement already satisfied: tqdm in /usr/local/lib/python3.10/dist-packages (from gdown) (4.65.0)\n",
            "Requirement already satisfied: beautifulsoup4 in /usr/local/lib/python3.10/dist-packages (from gdown) (4.11.2)\n",
            "Requirement already satisfied: soupsieve>1.2 in /usr/local/lib/python3.10/dist-packages (from beautifulsoup4->gdown) (2.4.1)\n",
            "Requirement already satisfied: urllib3<1.27,>=1.21.1 in /usr/local/lib/python3.10/dist-packages (from requests[socks]->gdown) (1.26.15)\n",
            "Requirement already satisfied: certifi>=2017.4.17 in /usr/local/lib/python3.10/dist-packages (from requests[socks]->gdown) (2022.12.7)\n",
            "Requirement already satisfied: charset-normalizer~=2.0.0 in /usr/local/lib/python3.10/dist-packages (from requests[socks]->gdown) (2.0.12)\n",
            "Requirement already satisfied: idna<4,>=2.5 in /usr/local/lib/python3.10/dist-packages (from requests[socks]->gdown) (3.4)\n",
            "Requirement already satisfied: PySocks!=1.5.7,>=1.5.6 in /usr/local/lib/python3.10/dist-packages (from requests[socks]->gdown) (1.7.1)\n",
            "Looking in indexes: https://pypi.org/simple, https://us-python.pkg.dev/colab-wheels/public/simple/\n",
            "Collecting pymongo\n",
            "  Downloading pymongo-4.3.3-cp310-cp310-manylinux_2_17_x86_64.manylinux2014_x86_64.whl (492 kB)\n",
            "\u001b[2K     \u001b[90m━━━━━━━━━━━━━━━━━━━━━━━━━━━━━━━━━━━━━━━\u001b[0m \u001b[32m492.9/492.9 kB\u001b[0m \u001b[31m9.7 MB/s\u001b[0m eta \u001b[36m0:00:00\u001b[0m\n",
            "\u001b[?25hCollecting dnspython<3.0.0,>=1.16.0 (from pymongo)\n",
            "  Downloading dnspython-2.3.0-py3-none-any.whl (283 kB)\n",
            "\u001b[2K     \u001b[90m━━━━━━━━━━━━━━━━━━━━━━━━━━━━━━━━━━━━━━\u001b[0m \u001b[32m283.7/283.7 kB\u001b[0m \u001b[31m27.4 MB/s\u001b[0m eta \u001b[36m0:00:00\u001b[0m\n",
            "\u001b[?25hInstalling collected packages: dnspython, pymongo\n",
            "Successfully installed dnspython-2.3.0 pymongo-4.3.3\n",
            "Downloading...\n",
            "From: https://drive.google.com/uc?id=108aLE4mFE5bZYitFfX5c14Qj_aYA5MO_\n",
            "To: /content/pokedex.json\n",
            "100% 2.95M/2.95M [00:00<00:00, 159MB/s]\n",
            "2023-06-11T20:02:57.811+0000\tconnected to: localhost\n",
            "2023-06-11T20:02:58.067+0000\timported 809 documents\n"
          ]
        }
      ]
    },
    {
      "cell_type": "markdown",
      "metadata": {
        "id": "fcy-Y8V9pqRS"
      },
      "source": [
        "A continuación importaremos la librería de mongo para python, crearemos un cliente que se conectara a $\\texttt{localhost}$ por defecto, nos conectaremos a la base local, y luego a la colección pokedex la cual almacenaremos en la variable $\\texttt{collection}$."
      ]
    },
    {
      "cell_type": "code",
      "metadata": {
        "id": "-duLZ321nB6e"
      },
      "source": [
        "from pymongo import MongoClient\n",
        "client = MongoClient()\n",
        "client.list_database_names() # ['admin', 'local']\n",
        "db = client['local']\n",
        "collection = db['pokedex']"
      ],
      "execution_count": null,
      "outputs": []
    },
    {
      "cell_type": "markdown",
      "metadata": {
        "id": "H1qnSiAzq5gm"
      },
      "source": [
        "Para partir, podemos listar toda la colección usando el comando $\\texttt{collection.find({})}$. Para no saturar la salida, nos limitaremos a mirar el primero de los registros."
      ]
    },
    {
      "cell_type": "code",
      "metadata": {
        "colab": {
          "base_uri": "https://localhost:8080/"
        },
        "id": "8NX7SGoRpD2Q",
        "outputId": "587ce2f4-d9b2-4f6d-8fd1-e8093adeec77"
      },
      "source": [
        "import pprint\n",
        "for pokemon in collection.find({}).limit(1):\n",
        "    pprint.pprint(pokemon)"
      ],
      "execution_count": null,
      "outputs": [
        {
          "output_type": "stream",
          "name": "stdout",
          "text": [
            "{'Abilities': ['Overgrow', 'Chlorophyll'],\n",
            " 'Attack': 49,\n",
            " 'Capture Rate': 45,\n",
            " 'Category': 'Seed Pokémon',\n",
            " 'Defense': 49,\n",
            " 'Egg Steps': 5120,\n",
            " 'Exp Group': 'Medium Slow',\n",
            " 'HP': 45,\n",
            " 'Height (ft)': '2\\'04\"',\n",
            " 'Height (m)': 0.7,\n",
            " 'Id': '001',\n",
            " 'Moves': {'Double-Edge': {'Accuracy': 100,\n",
            "                           'Description': 'A reckless, life-risking tackle. '\n",
            "                                          'This also damages the user quite a '\n",
            "                                          'lot.',\n",
            "                           'Effect %': '--',\n",
            "                           'Level': 27,\n",
            "                           'PP': 15,\n",
            "                           'Power': 120,\n",
            "                           'Type': 'Normal'},\n",
            "           'Growl': {'Accuracy': 100,\n",
            "                     'Description': 'The user growls in an endearing way, '\n",
            "                                    'making opposing Pokémon less wary. This '\n",
            "                                    'lowers their Attack stat.',\n",
            "                     'Effect %': '--',\n",
            "                     'Level': 3,\n",
            "                     'PP': 40,\n",
            "                     'Power': '--',\n",
            "                     'Type': 'Normal'},\n",
            "           'Growth': {'Accuracy': '--',\n",
            "                      'Description': \"The user's body grows all at once, \"\n",
            "                                     'raising the Attack and Sp. Atk stats.',\n",
            "                      'Effect %': '--',\n",
            "                      'Level': 25,\n",
            "                      'PP': 20,\n",
            "                      'Power': '--',\n",
            "                      'Type': 'Normal'},\n",
            "           'Poison Powder': {'Accuracy': 75,\n",
            "                             'Description': 'The user scatters a cloud of '\n",
            "                                            'poisonous dust that poisons the '\n",
            "                                            'target.',\n",
            "                             'Effect %': '--',\n",
            "                             'Level': 13,\n",
            "                             'PP': 35,\n",
            "                             'Power': '--',\n",
            "                             'Type': 'Poison'},\n",
            "           'Razor Leaf': {'Accuracy': 95,\n",
            "                          'Description': 'Sharp-edged leaves are launched to '\n",
            "                                         'slash at the opposing Pokémon. '\n",
            "                                         'Critical hits land more easily.',\n",
            "                          'Effect %': '--',\n",
            "                          'Level': 19,\n",
            "                          'PP': 25,\n",
            "                          'Power': 55,\n",
            "                          'Type': 'Grass'},\n",
            "           'Seed Bomb': {'Accuracy': 100,\n",
            "                         'Description': 'The user slams a barrage of '\n",
            "                                        'hard-shelled seeds down on the target '\n",
            "                                        'from above.',\n",
            "                         'Effect %': '--',\n",
            "                         'Level': 37,\n",
            "                         'PP': 15,\n",
            "                         'Power': 80,\n",
            "                         'Type': 'Grass'},\n",
            "           'Sleep Powder': {'Accuracy': 75,\n",
            "                            'Description': 'The user scatters a big cloud of '\n",
            "                                           'sleep-inducing dust around the '\n",
            "                                           'target.',\n",
            "                            'Effect %': '--',\n",
            "                            'Level': 13,\n",
            "                            'PP': 15,\n",
            "                            'Power': '--',\n",
            "                            'Type': 'Grass'},\n",
            "           'Sweet Scent': {'Accuracy': 100,\n",
            "                           'Description': 'A sweet scent that harshly lowers '\n",
            "                                          \"opposing Pokémon's evasiveness.\",\n",
            "                           'Effect %': '--',\n",
            "                           'Level': 21,\n",
            "                           'PP': 20,\n",
            "                           'Power': '--',\n",
            "                           'Type': 'Normal'},\n",
            "           'Synthesis': {'Accuracy': '--',\n",
            "                         'Description': 'The user restores its own HP. The '\n",
            "                                        'amount of HP regained varies with the '\n",
            "                                        'weather.',\n",
            "                         'Effect %': '--',\n",
            "                         'Level': 33,\n",
            "                         'PP': 5,\n",
            "                         'Power': '--',\n",
            "                         'Type': 'Grass'},\n",
            "           'Tackle': {'Accuracy': 100,\n",
            "                      'Description': 'A physical attack in which the user '\n",
            "                                     'charges and slams into the target with '\n",
            "                                     'its whole body.',\n",
            "                      'Effect %': '--',\n",
            "                      'Level': '—',\n",
            "                      'PP': 35,\n",
            "                      'Power': 40,\n",
            "                      'Type': 'Normal'},\n",
            "           'Take Down': {'Accuracy': 85,\n",
            "                         'Description': 'A reckless, full-body charge attack '\n",
            "                                        'for slamming into the target. This '\n",
            "                                        'also damages the user a little.',\n",
            "                         'Effect %': '--',\n",
            "                         'Level': 15,\n",
            "                         'PP': 20,\n",
            "                         'Power': 90,\n",
            "                         'Type': 'Normal'},\n",
            "           'Vine Whip': {'Accuracy': 100,\n",
            "                         'Description': 'The target is struck with slender, '\n",
            "                                        'whiplike vines to inflict damage.',\n",
            "                         'Effect %': '--',\n",
            "                         'Level': 9,\n",
            "                         'PP': 25,\n",
            "                         'Power': 45,\n",
            "                         'Type': 'Grass'},\n",
            "           'Worry Seed': {'Accuracy': 100,\n",
            "                          'Description': 'A seed that causes worry is planted '\n",
            "                                         'on the target. It prevents sleep by '\n",
            "                                         \"making the target's Ability \"\n",
            "                                         'Insomnia.',\n",
            "                          'Effect %': '--',\n",
            "                          'Level': 31,\n",
            "                          'PP': 10,\n",
            "                          'Power': '--',\n",
            "                          'Type': 'Grass'}},\n",
            " 'Name': 'Bulbasaur',\n",
            " 'Sp. Attack': 65,\n",
            " 'Sp. Defense': 65,\n",
            " 'Speed': 45,\n",
            " 'Total': 318,\n",
            " 'Type 1': 'Grass',\n",
            " 'Type 2': 'Poison',\n",
            " 'Weight (kg)': 6.9,\n",
            " 'Weight (lbs)': 15.2,\n",
            " '_id': ObjectId('648628725afc14af24dab324')}\n"
          ]
        }
      ]
    },
    {
      "cell_type": "markdown",
      "metadata": {
        "id": "dLU42N8srWv_"
      },
      "source": [
        "Fijense que aparte de los datos básicos del pokemon, también se presentan las habilidades (una lista de strings), y los movimientos (un arreglo asociativo/diccionario de los movimientos y sus detalles).\n",
        "\n",
        "Si queremos ahora listar los pokemones que se llaman $\\texttt{Charmander}$ podemos hacer la siguiente consulta:"
      ]
    },
    {
      "cell_type": "code",
      "metadata": {
        "id": "BgYUDtAUtdkL",
        "colab": {
          "base_uri": "https://localhost:8080/"
        },
        "outputId": "2af65d18-18ae-46bd-c887-9f99195be251"
      },
      "source": [
        "for pokemon in collection.find({'Name': 'Charmander'}):\n",
        "    pprint.pprint(pokemon)"
      ],
      "execution_count": null,
      "outputs": [
        {
          "output_type": "stream",
          "name": "stdout",
          "text": [
            "{'Abilities': ['Blaze', 'Solar Power'],\n",
            " 'Attack': 52,\n",
            " 'Capture Rate': 45,\n",
            " 'Category': 'Lizard Pokémon',\n",
            " 'Defense': 43,\n",
            " 'Egg Steps': 5120,\n",
            " 'Exp Group': 'Medium Slow',\n",
            " 'HP': 39,\n",
            " 'Height (ft)': '2\\'00\"',\n",
            " 'Height (m)': 0.6,\n",
            " 'Id': '004',\n",
            " 'Moves': {'Dragon Rage': {'Accuracy': 100,\n",
            "                           'Description': 'This attack hits the target with a '\n",
            "                                          'shock wave of pure rage. This '\n",
            "                                          'attack always inflicts 40 HP '\n",
            "                                          'damage.',\n",
            "                           'Effect %': '--',\n",
            "                           'Level': 16,\n",
            "                           'PP': 10,\n",
            "                           'Power': '??',\n",
            "                           'Type': 'Dragon'},\n",
            "           'Ember': {'Accuracy': 100,\n",
            "                     'Description': 'The target is attacked with small flames. '\n",
            "                                    'This may also leave the target with a '\n",
            "                                    'burn.',\n",
            "                     'Effect %': 10,\n",
            "                     'Level': 7,\n",
            "                     'PP': 25,\n",
            "                     'Power': 40,\n",
            "                     'Type': 'Fire'},\n",
            "           'Fire Fang': {'Accuracy': 95,\n",
            "                         'Description': 'The user bites with flame-cloaked '\n",
            "                                        'fangs. This may also make the target '\n",
            "                                        'flinch or leave it with a burn.',\n",
            "                         'Effect %': 20,\n",
            "                         'Level': 19,\n",
            "                         'PP': 15,\n",
            "                         'Power': 65,\n",
            "                         'Type': 'Fire'},\n",
            "           'Fire Spin': {'Accuracy': 85,\n",
            "                         'Description': 'The target becomes trapped within a '\n",
            "                                        'fierce vortex of fire that rages for '\n",
            "                                        'four to five turns.',\n",
            "                         'Effect %': 100,\n",
            "                         'Level': 37,\n",
            "                         'PP': 15,\n",
            "                         'Power': 35,\n",
            "                         'Type': 'Fire'},\n",
            "           'Flame Burst': {'Accuracy': 100,\n",
            "                           'Description': 'The user attacks the target with a '\n",
            "                                          'bursting flame. The bursting flame '\n",
            "                                          'damages Pokémon next to the target '\n",
            "                                          'as well.',\n",
            "                           'Effect %': '--',\n",
            "                           'Level': 25,\n",
            "                           'PP': 15,\n",
            "                           'Power': 70,\n",
            "                           'Type': 'Fire'},\n",
            "           'Flamethrower': {'Accuracy': 100,\n",
            "                            'Description': 'The target is scorched with an '\n",
            "                                           'intense blast of fire. This may '\n",
            "                                           'also leave the target with a burn.',\n",
            "                            'Effect %': 10,\n",
            "                            'Level': 34,\n",
            "                            'PP': 15,\n",
            "                            'Power': 90,\n",
            "                            'Type': 'Fire'},\n",
            "           'Growl': {'Accuracy': 100,\n",
            "                     'Description': 'The user growls in an endearing way, '\n",
            "                                    'making opposing Pokémon less wary. This '\n",
            "                                    'lowers their Attack stat.',\n",
            "                     'Effect %': '--',\n",
            "                     'Level': '—',\n",
            "                     'PP': 40,\n",
            "                     'Power': '--',\n",
            "                     'Type': 'Normal'},\n",
            "           'Inferno': {'Accuracy': 50,\n",
            "                       'Description': 'The user attacks by engulfing the '\n",
            "                                      'target in an intense fire. This leaves '\n",
            "                                      'the target with a burn.',\n",
            "                       'Effect %': 100,\n",
            "                       'Level': 43,\n",
            "                       'PP': 5,\n",
            "                       'Power': 100,\n",
            "                       'Type': 'Fire'},\n",
            "           'Scary Face': {'Accuracy': 100,\n",
            "                          'Description': 'The user frightens the target with a '\n",
            "                                         'scary face to harshly lower its '\n",
            "                                         'Speed stat.',\n",
            "                          'Effect %': '--',\n",
            "                          'Level': 40,\n",
            "                          'PP': 10,\n",
            "                          'Power': '--',\n",
            "                          'Type': 'Normal'},\n",
            "           'Scratch': {'Accuracy': 100,\n",
            "                       'Description': 'Hard, pointed, sharp claws rake the '\n",
            "                                      'target to inflict damage.',\n",
            "                       'Effect %': '--',\n",
            "                       'Level': '—',\n",
            "                       'PP': 35,\n",
            "                       'Power': 40,\n",
            "                       'Type': 'Normal'},\n",
            "           'Slash': {'Accuracy': 100,\n",
            "                     'Description': 'The target is attacked with a slash of '\n",
            "                                    'claws or blades. Critical hits land more '\n",
            "                                    'easily.',\n",
            "                     'Effect %': '--',\n",
            "                     'Level': 28,\n",
            "                     'PP': 20,\n",
            "                     'Power': 70,\n",
            "                     'Type': 'Normal'},\n",
            "           'Smokescreen': {'Accuracy': 100,\n",
            "                           'Description': 'The user releases an obscuring '\n",
            "                                          'cloud of smoke or ink. This lowers '\n",
            "                                          \"the target's accuracy.\",\n",
            "                           'Effect %': '--',\n",
            "                           'Level': 10,\n",
            "                           'PP': 20,\n",
            "                           'Power': '--',\n",
            "                           'Type': 'Normal'}},\n",
            " 'Name': 'Charmander',\n",
            " 'Sp. Attack': 60,\n",
            " 'Sp. Defense': 50,\n",
            " 'Speed': 65,\n",
            " 'Total': 309,\n",
            " 'Type 1': 'Fire',\n",
            " 'Type 2': 'None',\n",
            " 'Weight (kg)': 8.5,\n",
            " 'Weight (lbs)': 18.7,\n",
            " '_id': ObjectId('648628725afc14af24dab327')}\n"
          ]
        }
      ]
    },
    {
      "cell_type": "markdown",
      "metadata": {
        "id": "djZYDni4vEHK"
      },
      "source": [
        "Y si queremos proyectar algunos de sus atributos lo hacemos tal como si fuera un diccionario:"
      ]
    },
    {
      "cell_type": "code",
      "metadata": {
        "colab": {
          "base_uri": "https://localhost:8080/"
        },
        "id": "VdjGX_wyvMEZ",
        "outputId": "bac788ea-ae53-4b2b-8f54-6d03de60b803"
      },
      "source": [
        "for pokemon in collection.find({'Name': 'Mew'}):\n",
        "    print(pokemon['Speed'],pokemon['Abilities'])"
      ],
      "execution_count": null,
      "outputs": [
        {
          "output_type": "stream",
          "name": "stdout",
          "text": [
            "100 ['Synchronize']\n"
          ]
        }
      ]
    },
    {
      "cell_type": "markdown",
      "metadata": {
        "id": "I2VnDNwHuSxM"
      },
      "source": [
        "Recomendamos hechar un vistazo [aquí](https://docs.mongodb.com/manual/tutorial/query-documents/) para ver otros ejemplos de consultas que utilizarán en las siguientes preguntas:"
      ]
    },
    {
      "cell_type": "markdown",
      "metadata": {
        "id": "J_3DbzoAuvPu"
      },
      "source": [
        "#Pregunta 1\n",
        "Encuentre los nombre de los pokemons que pesen mas de 150kg.\n",
        "[Ordene](https://www.w3schools.com/python/python_mongodb_sort.asp) los resultados por peso descendiente"
      ]
    },
    {
      "cell_type": "code",
      "metadata": {
        "id": "FIYMF7BSsYM5"
      },
      "source": [],
      "execution_count": null,
      "outputs": []
    },
    {
      "cell_type": "markdown",
      "metadata": {
        "id": "QbgODMWRzjcX"
      },
      "source": [
        "#Pregunta 2\n",
        "Encuentre los nombres de los pokemones ''Glass cannon'', que son los que tienen ataque sobre 120 y defensa bajo 50."
      ]
    },
    {
      "cell_type": "code",
      "metadata": {
        "id": "BAuRx2oZzwVf"
      },
      "source": [],
      "execution_count": null,
      "outputs": []
    },
    {
      "cell_type": "markdown",
      "metadata": {
        "id": "d7lB2vkh0yFq"
      },
      "source": [
        "#Pregunta 3\n",
        "Encuentre los pokemones \"defensivos\", que son los que tienen ya sea defensa, hp, o defensa especial (sp. defense) mayor o igual a 120."
      ]
    },
    {
      "cell_type": "code",
      "metadata": {
        "id": "A1UwKkaE0Qv3"
      },
      "source": [],
      "execution_count": null,
      "outputs": []
    },
    {
      "cell_type": "markdown",
      "metadata": {
        "id": "vWKkWAl74R6O"
      },
      "source": [
        "#Pregunta 4\n",
        "Seleccione los pokemones que tienen el movimiento $\\texttt{Take Down}$ de nivel 15.\n",
        "\n",
        "**Hint**: Puede consultar en diccionarios embebidos concatenando las llaves con un punto \".\".\n",
        "\n",
        "Por ejemplo, para un dato:\n",
        "```\n",
        "[{\n",
        "  a: {\n",
        "    b: 'foo'\n",
        "  }\n",
        "}]\n",
        "```\n",
        "se puede consultar por los documentos tal que $\\texttt{b}$ sea $\\texttt{foo}$, escribiendo $\\texttt{collection.find({'a.b': 'foo'})}$."
      ]
    },
    {
      "cell_type": "code",
      "metadata": {
        "id": "Y_cykeWb4DdT"
      },
      "source": [],
      "execution_count": null,
      "outputs": []
    },
    {
      "cell_type": "markdown",
      "metadata": {
        "id": "MOD9S2hd2TNb"
      },
      "source": [
        "#Pregunta 5\n",
        "Seleccione los pokemones que tienen el movimiento $\\texttt{Take Down}$.\n",
        "\n",
        "**Hint**: Puede testear si es que una llave existe utilizando [$exists](https://docs.mongodb.com/manual/reference/operator/query/exists/)"
      ]
    },
    {
      "cell_type": "code",
      "metadata": {
        "id": "CnhaYoEQ1TyT"
      },
      "source": [],
      "execution_count": null,
      "outputs": []
    },
    {
      "cell_type": "markdown",
      "metadata": {
        "id": "fslrlRMV41jc"
      },
      "source": [
        "#Pregunta 6\n",
        "1. Seleccione los pokemones que tienen la habilidad $\\texttt{Telepathy}$\n"
      ]
    },
    {
      "cell_type": "code",
      "metadata": {
        "id": "rIBpykKuENYH"
      },
      "source": [],
      "execution_count": null,
      "outputs": []
    },
    {
      "cell_type": "markdown",
      "metadata": {
        "id": "Qwxi9yxdEDo6"
      },
      "source": [
        "2. Seleccione los pokemones que tienen la habilidad $\\texttt{Telepathy}$\n",
        " **y** $\\texttt{Synchronize}$ (pueden tener mas habilidades aparte de estas dos.\n",
        "\n",
        "   **Hint**: puede utilizar el operador [$all](https://docs.mongodb.com/manual/tutorial/query-arrays/) ."
      ]
    },
    {
      "cell_type": "code",
      "metadata": {
        "id": "oRIzCWC45HOb"
      },
      "source": [],
      "execution_count": null,
      "outputs": []
    },
    {
      "cell_type": "markdown",
      "metadata": {
        "id": "OXO4tdys9SuC"
      },
      "source": [
        "#Pregunta 7\n",
        "Para la siguiente pregunta vamos a crear un índice sobre la columna $\\texttt{Category}$."
      ]
    },
    {
      "cell_type": "code",
      "metadata": {
        "colab": {
          "base_uri": "https://localhost:8080/",
          "height": 35
        },
        "id": "VM2gTzMA9-tl",
        "outputId": "c468f936-5d97-4364-a141-79116572dca0"
      },
      "source": [
        "collection.create_index([('Category', 'text')])"
      ],
      "execution_count": null,
      "outputs": [
        {
          "output_type": "execute_result",
          "data": {
            "text/plain": [
              "'Category_text'"
            ],
            "application/vnd.google.colaboratory.intrinsic+json": {
              "type": "string"
            }
          },
          "metadata": {},
          "execution_count": 6
        }
      ]
    },
    {
      "cell_type": "markdown",
      "metadata": {
        "id": "_GhQq0Zc_Qbn"
      },
      "source": [
        "Usando el operador [$text](https://docs.mongodb.com/manual/text-search/) responda a las siguientes consultas.\n",
        "1.  Devuelva los nombres y categorías de los pokemons tales que su categoría contenga ya sea la palabra **Sea** o **Gas**."
      ]
    },
    {
      "cell_type": "code",
      "metadata": {
        "id": "Y4W9G87Y9HzR"
      },
      "source": [
        "\n"
      ],
      "execution_count": null,
      "outputs": []
    },
    {
      "cell_type": "markdown",
      "metadata": {
        "id": "m8PuYBiiCWwQ"
      },
      "source": [
        "2. Devuelva los nombres y categorías de los pokemons tales que su categoría contenga la palabra **Sea** y no **Deep**."
      ]
    },
    {
      "cell_type": "code",
      "metadata": {
        "id": "PHdr_c-XCjdZ"
      },
      "source": [
        "\n"
      ],
      "execution_count": null,
      "outputs": []
    },
    {
      "cell_type": "markdown",
      "metadata": {
        "id": "aaWgzFeSCrHN"
      },
      "source": [
        "3. Devuelva los nombres y categorías de los pokemons tales que su categoría contenga ambas palabras **Sea** y **Lion**."
      ]
    },
    {
      "cell_type": "code",
      "metadata": {
        "id": "_D0QACY5CqgJ"
      },
      "source": [
        "\n"
      ],
      "execution_count": null,
      "outputs": []
    }
  ]
}